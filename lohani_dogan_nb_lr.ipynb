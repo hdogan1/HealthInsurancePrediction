{
 "cells": [
  {
   "cell_type": "markdown",
   "id": "73b7da53",
   "metadata": {},
   "source": [
    "# Meena Lohani and Hulya Dogan\n",
    "### Group Project\n",
    "#### December 14, 2021"
   ]
  },
  {
   "cell_type": "markdown",
   "id": "caa492cb",
   "metadata": {},
   "source": [
    "# Utilities"
   ]
  },
  {
   "cell_type": "code",
   "execution_count": 2,
   "id": "626ffef1",
   "metadata": {},
   "outputs": [],
   "source": [
    "import os\n",
    "import sys\n",
    "# including modules\n",
    "%matplotlib inline\n",
    "import matplotlib.pyplot as plt\n",
    "import pandas as pd\n",
    "import datetime \n",
    "import operator\n",
    "import numpy as np\n",
    "\n",
    "import datetime\n",
    "from dateutil.relativedelta import relativedelta\n",
    "\n",
    "\n",
    "from sklearn.naive_bayes import GaussianNB, CategoricalNB\n",
    "from sklearn.tree import DecisionTreeClassifier, plot_tree\n",
    "from sklearn.linear_model import LogisticRegression\n",
    "from sklearn.metrics import f1_score, confusion_matrix, accuracy_score, precision_score, recall_score, plot_confusion_matrix, precision_recall_fscore_support\n",
    "from sklearn.metrics import make_scorer\n",
    "from sklearn.model_selection import cross_validate\n",
    "from sklearn.model_selection import train_test_split\n",
    "from sklearn.metrics import mean_squared_error\n",
    "from sklearn.linear_model import Perceptron\n",
    "from sklearn.neural_network import MLPClassifier\n",
    "from IPython.display import Image\n",
    "import seaborn as sns\n"
   ]
  },
  {
   "cell_type": "code",
   "execution_count": 3,
   "id": "4a4e7625",
   "metadata": {},
   "outputs": [],
   "source": [
    "# set up display area to show dataframe in jupyter qtconsole\n",
    "pd.set_option('display.max_rows', None)\n",
    "pd.set_option('display.max_columns', None)\n",
    "pd.set_option('display.width', None)\n",
    "pd.set_option('display.max_colwidth', None)\n",
    "import warnings \n",
    "warnings.filterwarnings(\"ignore\")\n",
    "pd.set_option('display.float_format', lambda x: '%.0f' % x)"
   ]
  },
  {
   "cell_type": "markdown",
   "id": "6c096ab3",
   "metadata": {},
   "source": [
    "# Acs data 2012 and 2019 processing "
   ]
  },
  {
   "cell_type": "code",
   "execution_count": 4,
   "id": "4bc94d6b",
   "metadata": {},
   "outputs": [
    {
     "data": {
      "text/html": [
       "<div>\n",
       "<style scoped>\n",
       "    .dataframe tbody tr th:only-of-type {\n",
       "        vertical-align: middle;\n",
       "    }\n",
       "\n",
       "    .dataframe tbody tr th {\n",
       "        vertical-align: top;\n",
       "    }\n",
       "\n",
       "    .dataframe thead th {\n",
       "        text-align: right;\n",
       "    }\n",
       "</style>\n",
       "<table border=\"1\" class=\"dataframe\">\n",
       "  <thead>\n",
       "    <tr style=\"text-align: right;\">\n",
       "      <th></th>\n",
       "      <th>statefip</th>\n",
       "      <th>countyfip</th>\n",
       "      <th>hhincome</th>\n",
       "      <th>foodstmp</th>\n",
       "      <th>marst</th>\n",
       "      <th>race</th>\n",
       "      <th>educ</th>\n",
       "      <th>hcovany</th>\n",
       "    </tr>\n",
       "  </thead>\n",
       "  <tbody>\n",
       "    <tr>\n",
       "      <th>0</th>\n",
       "      <td>California</td>\n",
       "      <td>0</td>\n",
       "      <td>50790</td>\n",
       "      <td>No</td>\n",
       "      <td>Married, spouse present</td>\n",
       "      <td>White</td>\n",
       "      <td>Grade 12</td>\n",
       "      <td>With health insurance coverage</td>\n",
       "    </tr>\n",
       "  </tbody>\n",
       "</table>\n",
       "</div>"
      ],
      "text/plain": [
       "     statefip  countyfip  hhincome foodstmp                    marst   race  \\\n",
       "0  California          0     50790       No  Married, spouse present  White   \n",
       "\n",
       "       educ                         hcovany  \n",
       "0  Grade 12  With health insurance coverage  "
      ]
     },
     "execution_count": 4,
     "metadata": {},
     "output_type": "execute_result"
    }
   ],
   "source": [
    "#Acsedited data 2010 data to train the model\n",
    "data1 = pd.read_stata(\"acs_12.dta\")\n",
    "df12 = data1[['statefip', 'countyfip','hhincome', 'foodstmp', 'marst','race', 'educ','hcovany']]\n",
    "df12.head(1)"
   ]
  },
  {
   "cell_type": "code",
   "execution_count": 5,
   "id": "7bfabb46",
   "metadata": {},
   "outputs": [],
   "source": [
    "#Acsedited data 2019 to test the model\n",
    "data = pd.read_stata(\"acs_19.dta\")\n",
    "df19 = data[['statefip', 'countyfip','hhincome', 'foodstmp', 'marst','race', 'educ', 'hcovany']]"
   ]
  },
  {
   "cell_type": "code",
   "execution_count": 6,
   "id": "1edf2d87",
   "metadata": {},
   "outputs": [
    {
     "data": {
      "text/html": [
       "<div>\n",
       "<style scoped>\n",
       "    .dataframe tbody tr th:only-of-type {\n",
       "        vertical-align: middle;\n",
       "    }\n",
       "\n",
       "    .dataframe tbody tr th {\n",
       "        vertical-align: top;\n",
       "    }\n",
       "\n",
       "    .dataframe thead th {\n",
       "        text-align: right;\n",
       "    }\n",
       "</style>\n",
       "<table border=\"1\" class=\"dataframe\">\n",
       "  <thead>\n",
       "    <tr style=\"text-align: right;\">\n",
       "      <th></th>\n",
       "      <th>statefip</th>\n",
       "      <th>countyfip</th>\n",
       "      <th>hhincome</th>\n",
       "      <th>marst</th>\n",
       "      <th>race</th>\n",
       "      <th>educ</th>\n",
       "      <th>Foodstamp</th>\n",
       "      <th>Insurance_Status</th>\n",
       "    </tr>\n",
       "  </thead>\n",
       "  <tbody>\n",
       "    <tr>\n",
       "      <th>0</th>\n",
       "      <td>California</td>\n",
       "      <td>0</td>\n",
       "      <td>50790</td>\n",
       "      <td>Married, spouse present</td>\n",
       "      <td>White</td>\n",
       "      <td>Grade 12</td>\n",
       "      <td>0</td>\n",
       "      <td>1</td>\n",
       "    </tr>\n",
       "  </tbody>\n",
       "</table>\n",
       "</div>"
      ],
      "text/plain": [
       "     statefip  countyfip  hhincome                    marst   race      educ  \\\n",
       "0  California          0     50790  Married, spouse present  White  Grade 12   \n",
       "\n",
       "   Foodstamp  Insurance_Status  \n",
       "0          0                 1  "
      ]
     },
     "execution_count": 6,
     "metadata": {},
     "output_type": "execute_result"
    }
   ],
   "source": [
    "#categorizing the foodstamp and insurance data\n",
    "df12['Foodstamp'] = np.where(df12['foodstmp']== 'Yes', 1, 0)\n",
    "df12['Insurance_Status'] = np.where(df12['hcovany']== 'With health insurance coverage', 1, 0)\n",
    "\n",
    "ms_data12 = df12.copy()\n",
    "ms_data12.drop(['foodstmp','hcovany'],axis=1, inplace=True)\n",
    "ms_data12.head(1)"
   ]
  },
  {
   "cell_type": "code",
   "execution_count": 7,
   "id": "57cf2d23",
   "metadata": {},
   "outputs": [],
   "source": [
    "### Check for any null values. No null values are found in the dataframe\n",
    "#df1.isnull().values.any()\n",
    "\n",
    "### Statistics for the income column\n",
    "#df12['hhincome'].describe()"
   ]
  },
  {
   "cell_type": "code",
   "execution_count": 8,
   "id": "06e4a4b5",
   "metadata": {},
   "outputs": [
    {
     "data": {
      "text/html": [
       "<div>\n",
       "<style scoped>\n",
       "    .dataframe tbody tr th:only-of-type {\n",
       "        vertical-align: middle;\n",
       "    }\n",
       "\n",
       "    .dataframe tbody tr th {\n",
       "        vertical-align: top;\n",
       "    }\n",
       "\n",
       "    .dataframe thead th {\n",
       "        text-align: right;\n",
       "    }\n",
       "</style>\n",
       "<table border=\"1\" class=\"dataframe\">\n",
       "  <thead>\n",
       "    <tr style=\"text-align: right;\">\n",
       "      <th></th>\n",
       "      <th>statefip</th>\n",
       "      <th>countyfip</th>\n",
       "      <th>hhincome</th>\n",
       "      <th>marst</th>\n",
       "      <th>race</th>\n",
       "      <th>educ</th>\n",
       "      <th>Foodstamp</th>\n",
       "      <th>Insurance_Status</th>\n",
       "    </tr>\n",
       "  </thead>\n",
       "  <tbody>\n",
       "    <tr>\n",
       "      <th>0</th>\n",
       "      <td>California</td>\n",
       "      <td>37</td>\n",
       "      <td>117407</td>\n",
       "      <td>Divorced</td>\n",
       "      <td>White</td>\n",
       "      <td>5+ years of college</td>\n",
       "      <td>0</td>\n",
       "      <td>1</td>\n",
       "    </tr>\n",
       "  </tbody>\n",
       "</table>\n",
       "</div>"
      ],
      "text/plain": [
       "     statefip  countyfip  hhincome     marst   race                 educ  \\\n",
       "0  California         37    117407  Divorced  White  5+ years of college   \n",
       "\n",
       "   Foodstamp  Insurance_Status  \n",
       "0          0                 1  "
      ]
     },
     "execution_count": 8,
     "metadata": {},
     "output_type": "execute_result"
    }
   ],
   "source": [
    "#categorizing the foodstamp and insurance data\n",
    "df19['Foodstamp'] = np.where(df19['foodstmp']== 'Yes', 1, 0)\n",
    "df19['Insurance_Status'] = np.where(df19['hcovany']== 'With health insurance coverage', 1, 0)\n",
    "\n",
    "ms_data19 = df19.copy()\n",
    "ms_data19.drop(['foodstmp','hcovany'],axis='columns', inplace=True)\n",
    "\n",
    "ms_data19.head(1)"
   ]
  },
  {
   "cell_type": "code",
   "execution_count": 9,
   "id": "18fd9afa",
   "metadata": {},
   "outputs": [],
   "source": [
    "#dummy variable to deal with the categorical data of 2012\n",
    "x__ = ms_data12.drop(['Insurance_Status'], axis = 1)\n",
    "\n",
    "X_ = pd.get_dummies(x__) #feature names\n",
    "y_ = ms_data12.iloc[:,-1:] #target variable (class label)"
   ]
  },
  {
   "cell_type": "code",
   "execution_count": 10,
   "id": "2a5fc55b",
   "metadata": {
    "scrolled": true
   },
   "outputs": [],
   "source": [
    "#dummy variable to deal with the categorical data of 2019\n",
    "x_ = ms_data19.drop('Insurance_Status', axis = 1)\n",
    "X = pd.get_dummies(x_) #feature names\n",
    "y = ms_data19.iloc[:,-1:] #target variable (class label)\n"
   ]
  },
  {
   "cell_type": "code",
   "execution_count": 11,
   "id": "d5db91b4",
   "metadata": {},
   "outputs": [
    {
     "data": {
      "text/html": [
       "<div>\n",
       "<style scoped>\n",
       "    .dataframe tbody tr th:only-of-type {\n",
       "        vertical-align: middle;\n",
       "    }\n",
       "\n",
       "    .dataframe tbody tr th {\n",
       "        vertical-align: top;\n",
       "    }\n",
       "\n",
       "    .dataframe thead th {\n",
       "        text-align: right;\n",
       "    }\n",
       "</style>\n",
       "<table border=\"1\" class=\"dataframe\">\n",
       "  <thead>\n",
       "    <tr style=\"text-align: right;\">\n",
       "      <th></th>\n",
       "      <th>countyfip</th>\n",
       "      <th>hhincome</th>\n",
       "      <th>Foodstamp</th>\n",
       "      <th>statefip_California</th>\n",
       "      <th>statefip_New Jersey</th>\n",
       "      <th>statefip_New York</th>\n",
       "      <th>marst_Married, spouse present</th>\n",
       "      <th>marst_Married, spouse absent</th>\n",
       "      <th>marst_Separated</th>\n",
       "      <th>marst_Divorced</th>\n",
       "      <th>marst_Widowed</th>\n",
       "      <th>marst_Never married/single</th>\n",
       "      <th>race_White</th>\n",
       "      <th>race_Black/African American/Negro</th>\n",
       "      <th>race_American Indian or Alaska Native</th>\n",
       "      <th>race_Chinese</th>\n",
       "      <th>race_Japanese</th>\n",
       "      <th>race_Other Asian or Pacific Islander</th>\n",
       "      <th>race_Other race, nec</th>\n",
       "      <th>race_Two major races</th>\n",
       "      <th>race_Three or more major races</th>\n",
       "      <th>educ_N/A or no schooling</th>\n",
       "      <th>educ_Nursery school to grade 4</th>\n",
       "      <th>educ_Grade 5, 6, 7, or 8</th>\n",
       "      <th>educ_Grade 9</th>\n",
       "      <th>educ_Grade 10</th>\n",
       "      <th>educ_Grade 11</th>\n",
       "      <th>educ_Grade 12</th>\n",
       "      <th>educ_1 year of college</th>\n",
       "      <th>educ_2 years of college</th>\n",
       "      <th>educ_4 years of college</th>\n",
       "      <th>educ_5+ years of college</th>\n",
       "    </tr>\n",
       "  </thead>\n",
       "  <tbody>\n",
       "    <tr>\n",
       "      <th>0</th>\n",
       "      <td>0</td>\n",
       "      <td>50790</td>\n",
       "      <td>0</td>\n",
       "      <td>1</td>\n",
       "      <td>0</td>\n",
       "      <td>0</td>\n",
       "      <td>1</td>\n",
       "      <td>0</td>\n",
       "      <td>0</td>\n",
       "      <td>0</td>\n",
       "      <td>0</td>\n",
       "      <td>0</td>\n",
       "      <td>1</td>\n",
       "      <td>0</td>\n",
       "      <td>0</td>\n",
       "      <td>0</td>\n",
       "      <td>0</td>\n",
       "      <td>0</td>\n",
       "      <td>0</td>\n",
       "      <td>0</td>\n",
       "      <td>0</td>\n",
       "      <td>0</td>\n",
       "      <td>0</td>\n",
       "      <td>0</td>\n",
       "      <td>0</td>\n",
       "      <td>0</td>\n",
       "      <td>0</td>\n",
       "      <td>1</td>\n",
       "      <td>0</td>\n",
       "      <td>0</td>\n",
       "      <td>0</td>\n",
       "      <td>0</td>\n",
       "    </tr>\n",
       "  </tbody>\n",
       "</table>\n",
       "</div>"
      ],
      "text/plain": [
       "   countyfip  hhincome  Foodstamp  statefip_California  statefip_New Jersey  \\\n",
       "0          0     50790          0                    1                    0   \n",
       "\n",
       "   statefip_New York  marst_Married, spouse present  \\\n",
       "0                  0                              1   \n",
       "\n",
       "   marst_Married, spouse absent  marst_Separated  marst_Divorced  \\\n",
       "0                             0                0               0   \n",
       "\n",
       "   marst_Widowed  marst_Never married/single  race_White  \\\n",
       "0              0                           0           1   \n",
       "\n",
       "   race_Black/African American/Negro  race_American Indian or Alaska Native  \\\n",
       "0                                  0                                      0   \n",
       "\n",
       "   race_Chinese  race_Japanese  race_Other Asian or Pacific Islander  \\\n",
       "0             0              0                                     0   \n",
       "\n",
       "   race_Other race, nec  race_Two major races  race_Three or more major races  \\\n",
       "0                     0                     0                               0   \n",
       "\n",
       "   educ_N/A or no schooling  educ_Nursery school to grade 4  \\\n",
       "0                         0                               0   \n",
       "\n",
       "   educ_Grade 5, 6, 7, or 8  educ_Grade 9  educ_Grade 10  educ_Grade 11  \\\n",
       "0                         0             0              0              0   \n",
       "\n",
       "   educ_Grade 12  educ_1 year of college  educ_2 years of college  \\\n",
       "0              1                       0                        0   \n",
       "\n",
       "   educ_4 years of college  educ_5+ years of college  \n",
       "0                        0                         0  "
      ]
     },
     "execution_count": 11,
     "metadata": {},
     "output_type": "execute_result"
    }
   ],
   "source": [
    "X_.head(1)\n",
    "#y_.head(1)\n"
   ]
  },
  {
   "cell_type": "code",
   "execution_count": 12,
   "id": "c22b8c3f",
   "metadata": {},
   "outputs": [],
   "source": [
    "### Check for any null values. No null values are found in the dataframe\n",
    "#df12.isnull().values.any()\n",
    "\n",
    "### Statistics for the income column\n",
    "#df12['hhincome'].describe()"
   ]
  },
  {
   "cell_type": "markdown",
   "id": "0f50a862",
   "metadata": {},
   "source": [
    "# Splitting the data for training and testing"
   ]
  },
  {
   "cell_type": "code",
   "execution_count": 13,
   "id": "d3bf682f",
   "metadata": {},
   "outputs": [],
   "source": [
    "#Training the model using 2012 data\n",
    "X_train = X_\n",
    "y_train = y_\n",
    "\n",
    "# Testing the model using 2019 data\n",
    "X_test = X\n",
    "y_test = y\n"
   ]
  },
  {
   "cell_type": "code",
   "execution_count": 14,
   "id": "e6a1d500",
   "metadata": {},
   "outputs": [],
   "source": [
    "##displays the values\n",
    "# X_train.head(1)\n",
    "# y_train.head(1)\n",
    "# X_test.head(1)\n",
    "# y_test.head(1)"
   ]
  },
  {
   "cell_type": "markdown",
   "id": "7c3fc47f",
   "metadata": {},
   "source": [
    "# Naive-Bayes Analysis"
   ]
  },
  {
   "cell_type": "code",
   "execution_count": 15,
   "id": "3eeafad6",
   "metadata": {},
   "outputs": [],
   "source": [
    "#naive bayes\n",
    "gnb = GaussianNB()\n",
    "gnb.fit(X_train, y_train)\n",
    "\n",
    "y_pred_nb = gnb.predict(X_test)"
   ]
  },
  {
   "cell_type": "markdown",
   "id": "512e1550",
   "metadata": {},
   "source": [
    "# Evaluation Naive-Bayes"
   ]
  },
  {
   "cell_type": "code",
   "execution_count": 16,
   "id": "1358fe0c",
   "metadata": {},
   "outputs": [
    {
     "name": "stdout",
     "output_type": "stream",
     "text": [
      "Accuracy: 0.8890831151553972\n"
     ]
    }
   ],
   "source": [
    "from sklearn import metrics\n",
    "# Naive-Bayes Model Accuracy before 10-fold CV, how often is the classifier correct?\n",
    "\n",
    "print(\"Accuracy:\",metrics.accuracy_score(y_test, y_pred_nb))"
   ]
  },
  {
   "cell_type": "code",
   "execution_count": 17,
   "id": "b7e7e877",
   "metadata": {},
   "outputs": [
    {
     "name": "stdout",
     "output_type": "stream",
     "text": [
      "Training set accuracy score: 0.8249\n",
      "Test set accuracy score: 0.8891\n"
     ]
    }
   ],
   "source": [
    "# print the scores on training and test set\n",
    "\n",
    "print('Training set accuracy score: {:.4f}'.format(gnb.score(X_train, y_train)))\n",
    "\n",
    "print('Test set accuracy score: {:.4f}'.format(gnb.score(X_test, y_test)))\n"
   ]
  },
  {
   "cell_type": "markdown",
   "id": "07731271",
   "metadata": {},
   "source": [
    "The training-set accuracy score is 0.8203 and the test-set accuracy score is 0.8801. Since there a sligght difference in the these two values,the data may have overfiited. Therefore, the 10-fold cross validation will be performed to see the average accuracy score."
   ]
  },
  {
   "cell_type": "code",
   "execution_count": 18,
   "id": "cc30d15a",
   "metadata": {},
   "outputs": [],
   "source": [
    "# check class distribution in test set\n",
    "\n",
    "#y_test.value_counts()"
   ]
  },
  {
   "cell_type": "code",
   "execution_count": 19,
   "id": "4b3f22ce",
   "metadata": {},
   "outputs": [],
   "source": [
    "#naive bayes evaluation \n",
    "#Cross Validation (10-fold) average results of each fold\n",
    "#Cross Validation is a very useful technique for assessing \n",
    "#the effectiveness of the model, particularly in cases where we need to mitigate over-fitting\n",
    "score_nb = {'Precision': make_scorer(precision_score),'Recall': make_scorer(recall_score),\n",
    "              'F-score': make_scorer(f1_score),'Accuracy': make_scorer(accuracy_score), \n",
    "              'MSE': make_scorer(mean_squared_error)}\n",
    "scores_nb = cross_validate(gnb, X, y, cv = 10, scoring = score_nb)\n"
   ]
  },
  {
   "cell_type": "code",
   "execution_count": 110,
   "id": "60504444",
   "metadata": {},
   "outputs": [
    {
     "name": "stdout",
     "output_type": "stream",
     "text": [
      "Naive Bayes: Averge scores of precision, recall, F-score, and accuracy of each fold (cv=10):\n",
      "\n",
      "Precision:  92.82873201413227\n",
      "Recall:  95.38255926463475\n",
      "F-score:  94.08079930598282\n",
      "Accuracy:  88.9083097737833\n",
      "MSE:  11.091690226216697\n"
     ]
    }
   ],
   "source": [
    "#prints the report of Naive-Bayes tree model evaluation using 10-fold cross validation in previous step\n",
    "\n",
    "print ('Naive Bayes: Averge scores of precision, recall, F-score, and accuracy of each fold (cv=10):\\n' )\n",
    "print('Precision: ',(scores_nb['test_Precision']).mean()*100)\n",
    "print('Recall: ',(scores_nb['test_Recall']).mean()*100)\n",
    "print('F-score: ',(scores_nb['test_F-score']).mean()*100)\n",
    "print('Accuracy: ',(scores_nb['test_Accuracy']).mean()*100)\n",
    "print('MSE: ',(scores_nb['test_MSE']).mean()*100)\n"
   ]
  },
  {
   "cell_type": "markdown",
   "id": "59242d76",
   "metadata": {},
   "source": [
    "Interpretation\n",
    "\n",
    "The accuracy of the model prior performing the 10-fold cross validation was 0.88, and after the cross-validation the average accuracy turns out to be similar to the original accuracy(0.88). Therefore, it can be concluded that the 10-fold cross-validation did not result in performance improvement for the Naive-Bayes model.\n",
    "\n"
   ]
  },
  {
   "cell_type": "code",
   "execution_count": 84,
   "id": "3d491e7a",
   "metadata": {},
   "outputs": [
    {
     "data": {
      "image/png": "[encoded data removed]",
      "text/plain": [
       "<Figure size 432x288 with 2 Axes>"
      ]
     },
     "metadata": {
      "needs_background": "light"
     },
     "output_type": "display_data"
    }
   ],
   "source": [
    "#Confusion metric of Perceptron Classifier model\n",
    "plot_confusion_matrix(gnb, X_test, y_test)\n",
    "plt.show()\n"
   ]
  },
  {
   "cell_type": "markdown",
   "id": "d760c9d5",
   "metadata": {},
   "source": [
    "# Logistic regression Analysis"
   ]
  },
  {
   "cell_type": "code",
   "execution_count": 22,
   "id": "c9e09f7a",
   "metadata": {},
   "outputs": [],
   "source": [
    "#Logistic regression analysis\n",
    "lr = LogisticRegression(random_state = 0, multi_class = 'multinomial')\n",
    "model=lr.fit(X_train, y_train)\n"
   ]
  },
  {
   "cell_type": "code",
   "execution_count": 103,
   "id": "e3863a62",
   "metadata": {},
   "outputs": [],
   "source": [
    "y_pred_lr = lr.predict(X_test)\n"
   ]
  },
  {
   "cell_type": "markdown",
   "id": "df78632d",
   "metadata": {},
   "source": [
    "## L1 Penalty"
   ]
  },
  {
   "cell_type": "code",
   "execution_count": 106,
   "id": "3681d49a",
   "metadata": {},
   "outputs": [],
   "source": [
    "lrl1 = LogisticRegression(random_state = 0, multi_class = 'multinomial', penalty = 'l1', solver='saga', max_iter = 500)\n",
    "model_l1 = lrl1.fit(X_train, y_train)\n",
    "y_pred_lr1 = model_l1.predict(X_test)\n",
    "\n"
   ]
  },
  {
   "cell_type": "markdown",
   "id": "7b60759d",
   "metadata": {},
   "source": [
    "## Elastic Net Penalty"
   ]
  },
  {
   "cell_type": "code",
   "execution_count": 121,
   "id": "68816a9d",
   "metadata": {},
   "outputs": [],
   "source": [
    "lrelastic = LogisticRegression(random_state = 0, multi_class = 'multinomial', penalty = 'elasticnet', solver='saga', \n",
    "                        l1_ratio = 0.3, C = 1, max_iter = 100)\n",
    "model_elastic = lrelastic.fit(X_train, y_train)\n",
    "y_pred_el = model_elastic.predict(X_test)\n"
   ]
  },
  {
   "cell_type": "markdown",
   "id": "b3060453",
   "metadata": {},
   "source": [
    "# Evaluation Logistic regression\n",
    "### Regular Logistic Regression Classification"
   ]
  },
  {
   "cell_type": "code",
   "execution_count": 120,
   "id": "1607d46d",
   "metadata": {},
   "outputs": [
    {
     "data": {
      "image/png": "[encoded data removed]",
      "text/plain": [
       "<Figure size 432x288 with 2 Axes>"
      ]
     },
     "metadata": {
      "needs_background": "light"
     },
     "output_type": "display_data"
    }
   ],
   "source": [
    "\n",
    "plot_confusion_matrix(model, X_test, y_test)\n",
    "\n",
    "plt.show()\n",
    "\n"
   ]
  },
  {
   "cell_type": "code",
   "execution_count": 116,
   "id": "ba6a8471",
   "metadata": {},
   "outputs": [
    {
     "name": "stdout",
     "output_type": "stream",
     "text": [
      "Accuracy: 0.9258657875346303\n"
     ]
    }
   ],
   "source": [
    "# Logistic regression Model Accuracy before 10-fold CV, how often is the classifier correct?\n",
    "\n",
    "print(\"Accuracy:\",metrics.accuracy_score(y_test, y_pred_lr))"
   ]
  },
  {
   "cell_type": "code",
   "execution_count": 30,
   "id": "8ac50f23",
   "metadata": {},
   "outputs": [],
   "source": [
    "#logistic regression analysis\n",
    "#Cross Validation (10-fold) average results of each fold\n",
    "#Cross Validation is a very useful technique for assessing \n",
    "#the effectiveness of the model, particularly in cases where we need to mitigate over-fitting\n",
    "dict_lr = {'Precision': make_scorer(precision_score),'Recall': make_scorer(recall_score),\n",
    "              'F-score': make_scorer(f1_score),'Accuracy': make_scorer(accuracy_score), \n",
    "              'MSE': make_scorer(mean_squared_error)}\n",
    "scores_lr = cross_validate(model, X, y, cv = 10, scoring = dict_lr)\n"
   ]
  },
  {
   "cell_type": "code",
   "execution_count": 93,
   "id": "d957f95b",
   "metadata": {},
   "outputs": [
    {
     "name": "stdout",
     "output_type": "stream",
     "text": [
      "Logistic Regression: Average scores of precision, recall, F-score, and accuracy of each fold (cv=10):\n",
      "\n",
      "Precision:  92.58657875532069\n",
      "Recall:  100.0\n",
      "F-score:  96.15060338393286\n",
      "Accuracy:  92.58657875532069\n",
      "MSE:  7.413421244679327\n"
     ]
    }
   ],
   "source": [
    "#prints the report of Logistic regression tree using 10-fold cross validation in previous step\n",
    "\n",
    "print ('Logistic Regression: Average scores of precision, recall, F-score, and accuracy of each fold (cv=10):\\n' )\n",
    "print('Precision: ',(scores_lr['test_Precision']).mean()*100)\n",
    "print('Recall: ',(scores_lr['test_Recall']).mean()*100)\n",
    "print('F-score: ',(scores_lr['test_F-score']).mean()*100)\n",
    "print('Accuracy: ',(scores_lr['test_Accuracy']).mean()*100)\n",
    "print('MSE: ',(scores_lr['test_MSE']).mean()*100)\n"
   ]
  },
  {
   "cell_type": "markdown",
   "id": "2f987090",
   "metadata": {},
   "source": [
    "### L1 Logistic Regression Classification"
   ]
  },
  {
   "cell_type": "code",
   "execution_count": 117,
   "id": "b356e8c2",
   "metadata": {},
   "outputs": [
    {
     "data": {
      "image/png": "[encoded data removed]",
      "text/plain": [
       "<Figure size 432x288 with 2 Axes>"
      ]
     },
     "metadata": {
      "needs_background": "light"
     },
     "output_type": "display_data"
    }
   ],
   "source": [
    "plot_confusion_matrix(model_l1, X_test, y_test)\n",
    "plt.show()\n"
   ]
  },
  {
   "cell_type": "code",
   "execution_count": 95,
   "id": "f810ca62",
   "metadata": {},
   "outputs": [],
   "source": [
    "#logistic regression analysis lr 1\n",
    "#Cross Validation (10-fold) average results of each fold\n",
    "#Cross Validation is a very useful technique for assessing \n",
    "#the effectiveness of the model, particularly in cases where we need to mitigate over-fitting\n",
    "dict_lr_1 = {'Precision': make_scorer(precision_score),'Recall': make_scorer(recall_score),\n",
    "              'F-score': make_scorer(f1_score),'Accuracy': make_scorer(accuracy_score), \n",
    "              'MSE': make_scorer(mean_squared_error)}\n",
    "scores_lr_1 = cross_validate(model_l1, X, y, cv = 10, scoring = dict_lr_1)\n"
   ]
  },
  {
   "cell_type": "code",
   "execution_count": 119,
   "id": "5930e3f4",
   "metadata": {},
   "outputs": [
    {
     "name": "stdout",
     "output_type": "stream",
     "text": [
      "Logistic Regression: Average scores of precision, recall, F-score, and accuracy of each fold (cv=10):\n",
      "\n",
      "Precision:  92.58657026955068\n",
      "Recall:  99.99685534591197\n",
      "F-score:  96.14914516975844\n",
      "Accuracy:  92.58389119285579\n",
      "MSE:  7.41610880714422\n"
     ]
    }
   ],
   "source": [
    "#prints the report of Logistic regression tree using 10-fold cross validation in previous step\n",
    "\n",
    "print ('Logistic Regression: Average scores of precision, recall, F-score, and accuracy of each fold (cv=10):\\n' )\n",
    "print('Precision: ',(scores_lr_1['test_Precision']).mean()*100)\n",
    "print('Recall: ',(scores_lr_1['test_Recall']).mean()*100)\n",
    "print('F-score: ',(scores_lr_1['test_F-score']).mean()*100)\n",
    "print('Accuracy: ',(scores_lr_1['test_Accuracy']).mean()*100)\n",
    "print('MSE: ',(scores_lr_1['test_MSE']).mean()*100)\n"
   ]
  },
  {
   "cell_type": "markdown",
   "id": "45d116b0",
   "metadata": {},
   "source": [
    "### Elastic Net Logistic Regression Classification"
   ]
  },
  {
   "cell_type": "code",
   "execution_count": 97,
   "id": "eaa34c8a",
   "metadata": {},
   "outputs": [
    {
     "data": {
      "image/png": "[encoded data removed]",
      "text/plain": [
       "<Figure size 432x288 with 2 Axes>"
      ]
     },
     "metadata": {
      "needs_background": "light"
     },
     "output_type": "display_data"
    }
   ],
   "source": [
    "plot_confusion_matrix(model_elastic, X_test, y_test)\n",
    "plt.show()"
   ]
  },
  {
   "cell_type": "code",
   "execution_count": 107,
   "id": "b0b81a74",
   "metadata": {},
   "outputs": [],
   "source": [
    "#logistic regression analysis lr Elastic Net Logistic\n",
    "#Cross Validation (10-fold) average results of each fold\n",
    "#Cross Validation is a very useful technique for assessing \n",
    "#the effectiveness of the model, particularly in cases where we need to mitigate over-fitting\n",
    "dict_lr_elNet = {'Precision': make_scorer(precision_score),'Recall': make_scorer(recall_score),\n",
    "              'F-score': make_scorer(f1_score),'Accuracy': make_scorer(accuracy_score), \n",
    "              'MSE': make_scorer(mean_squared_error)}\n",
    "scores_lr_el = cross_validate(model_elastic, X, y, cv = 10, scoring = dict_lr_elNet)"
   ]
  },
  {
   "cell_type": "code",
   "execution_count": 122,
   "id": "39bdde68",
   "metadata": {},
   "outputs": [
    {
     "name": "stdout",
     "output_type": "stream",
     "text": [
      "Logistic Regression: Average scores of precision, recall, F-score, and accuracy of each fold (cv=10):\n",
      "\n",
      "Precision:  92.5874038229987\n",
      "Recall:  99.99540396710206\n",
      "F-score:  96.14892370565447\n",
      "Accuracy:  92.58355523908325\n",
      "MSE:  7.416444760916728\n"
     ]
    }
   ],
   "source": [
    "#prints the report of Logistic regression tree using 10-fold cross validation in previous step\n",
    "\n",
    "print ('Logistic Regression: Average scores of precision, recall, F-score, and accuracy of each fold (cv=10):\\n' )\n",
    "print('Precision: ',(scores_lr_el['test_Precision']).mean()*100)\n",
    "print('Recall: ',(scores_lr_el['test_Recall']).mean()*100)\n",
    "print('F-score: ',(scores_lr_el['test_F-score']).mean()*100)\n",
    "print('Accuracy: ',(scores_lr_el['test_Accuracy']).mean()*100)\n",
    "print('MSE: ',(scores_lr_el['test_MSE']).mean()*100)"
   ]
  },
  {
   "cell_type": "code",
   "execution_count": null,
   "id": "73a42114",
   "metadata": {},
   "outputs": [],
   "source": [
    " "
   ]
  }
 ],
 "metadata": {
  "kernelspec": {
   "display_name": "Python 3",
   "language": "python",
   "name": "python3"
  },
  "language_info": {
   "codemirror_mode": {
    "name": "ipython",
    "version": 3
   },
   "file_extension": ".py",
   "mimetype": "text/x-python",
   "name": "python",
   "nbconvert_exporter": "python",
   "pygments_lexer": "ipython3",
   "version": "3.8.2"
  }
 },
 "nbformat": 4,
 "nbformat_minor": 5
}

{
  "nbformat": 4,
  "nbformat_minor": 5,
  "metadata": {
    "kernelspec": {
      "display_name": "Python 3",
      "language": "python",
      "name": "python3"
    },
    "language_info": {
      "codemirror_mode": {
        "name": "ipython",
        "version": 3
      },
      "file_extension": ".py",
      "mimetype": "text/x-python",
      "name": "python",
      "nbconvert_exporter": "python",
      "pygments_lexer": "ipython3",
      "version": "3.8.2"
    },
    "colab": {
      "name": "lohani_dogan_MLP_P.ipynb",
      "private_outputs": true,
      "provenance": [],
      "collapsed_sections": []
    }
  },
  "cells": [
    {
      "cell_type": "markdown",
      "metadata": {
        "id": "73b7da53"
      },
      "source": [
        "# Meena Lohani and Hulya Dogan\n",
        "### Group Project"
      ],
      "id": "73b7da53"
    },
    {
      "cell_type": "markdown",
      "metadata": {
        "id": "caa492cb"
      },
      "source": [
        "## Utilities"
      ],
      "id": "caa492cb"
    },
    {
      "cell_type": "code",
      "metadata": {
        "id": "5NXR3zvdOprb"
      },
      "source": [
        "from google.colab import drive\n",
        "drive.mount('/content/drive/')"
      ],
      "id": "5NXR3zvdOprb",
      "execution_count": null,
      "outputs": []
    },
    {
      "cell_type": "code",
      "metadata": {
        "id": "HOmdKToROpmb"
      },
      "source": [
        "import os\n",
        "import sys\n",
        "dir_path = '/content/drive/My Drive/Urban Compt Project'\n",
        "sys.path.append(dir_path)"
      ],
      "id": "HOmdKToROpmb",
      "execution_count": null,
      "outputs": []
    },
    {
      "cell_type": "code",
      "metadata": {
        "id": "qnf8hYMFOpd6"
      },
      "source": [
        "\n",
        "acs_data12= \"{}/acs2012.dta\".format(dir_path)\n",
        "acs_data19= \"{}/acs2019.dta\".format(dir_path)\n"
      ],
      "id": "qnf8hYMFOpd6",
      "execution_count": null,
      "outputs": []
    },
    {
      "cell_type": "code",
      "metadata": {
        "id": "626ffef1"
      },
      "source": [
        "import os\n",
        "import sys\n",
        "# including modules\n",
        "%matplotlib inline\n",
        "import matplotlib.pyplot as plt\n",
        "import pandas as pd\n",
        "import datetime \n",
        "import operator\n",
        "import numpy as np\n",
        "\n",
        "import datetime\n",
        "from dateutil.relativedelta import relativedelta\n",
        "\n",
        "\n",
        "from sklearn.naive_bayes import GaussianNB, CategoricalNB\n",
        "from sklearn.tree import DecisionTreeClassifier, plot_tree\n",
        "from sklearn.linear_model import LogisticRegression\n",
        "from sklearn.metrics import f1_score, confusion_matrix, accuracy_score, precision_score, recall_score, plot_confusion_matrix, precision_recall_fscore_support\n",
        "from sklearn.metrics import make_scorer\n",
        "from sklearn.model_selection import cross_validate\n",
        "from sklearn.model_selection import train_test_split\n",
        "from sklearn.metrics import mean_squared_error\n",
        "from sklearn.linear_model import Perceptron\n",
        "from sklearn.neural_network import MLPClassifier\n",
        "from IPython.display import Image\n",
        "import seaborn as sns\n"
      ],
      "id": "626ffef1",
      "execution_count": null,
      "outputs": []
    },
    {
      "cell_type": "code",
      "metadata": {
        "id": "4a4e7625"
      },
      "source": [
        "# set up display area to show dataframe in jupyter qtconsole\n",
        "pd.set_option('display.max_rows', None)\n",
        "pd.set_option('display.max_columns', None)\n",
        "pd.set_option('display.width', None)\n",
        "pd.set_option('display.max_colwidth', None)\n",
        "import warnings \n",
        "warnings.filterwarnings(\"ignore\")\n",
        "pd.set_option('display.float_format', lambda x: '%.0f' % x)"
      ],
      "id": "4a4e7625",
      "execution_count": null,
      "outputs": []
    },
    {
      "cell_type": "markdown",
      "metadata": {
        "id": "6c096ab3"
      },
      "source": [
        "# Acsedited data processing"
      ],
      "id": "6c096ab3"
    },
    {
      "cell_type": "code",
      "metadata": {
        "id": "7bfabb46"
      },
      "source": [
        "dataset2012 = pd.read_stata(acs_data12)\n",
        "dataset2019 = pd.read_stata(acs_data19)"
      ],
      "id": "7bfabb46",
      "execution_count": null,
      "outputs": []
    },
    {
      "cell_type": "code",
      "source": [
        "df12 = dataset2012[['statefip','age', 'foodstmp', 'hhincome', 'marst','race', 'educ','hcovany']]\n",
        "df12.head(1)"
      ],
      "metadata": {
        "id": "t1RY8xmAl1tf"
      },
      "id": "t1RY8xmAl1tf",
      "execution_count": null,
      "outputs": []
    },
    {
      "cell_type": "code",
      "source": [
        "df12.dtypes"
      ],
      "metadata": {
        "id": "P5KZUEQy0Vil"
      },
      "id": "P5KZUEQy0Vil",
      "execution_count": null,
      "outputs": []
    },
    {
      "cell_type": "code",
      "source": [
        "df12 = df12.loc[df12['age']!='Less than 1 year old']\n"
      ],
      "metadata": {
        "id": "EMiArQze1kdr"
      },
      "id": "EMiArQze1kdr",
      "execution_count": null,
      "outputs": []
    },
    {
      "cell_type": "code",
      "source": [
        "df12.head(5)"
      ],
      "metadata": {
        "id": "PWbWlDk02DWO"
      },
      "id": "PWbWlDk02DWO",
      "execution_count": null,
      "outputs": []
    },
    {
      "cell_type": "code",
      "source": [
        "df12 = df12.loc[df12['age']!='90 (90+ in 1980 and 1990)']"
      ],
      "metadata": {
        "id": "bxmsDzX927vr"
      },
      "id": "bxmsDzX927vr",
      "execution_count": null,
      "outputs": []
    },
    {
      "cell_type": "code",
      "source": [
        "df12['age']= df12['age'].astype(float)"
      ],
      "metadata": {
        "id": "B7lzDvXK05OU"
      },
      "id": "B7lzDvXK05OU",
      "execution_count": null,
      "outputs": []
    },
    {
      "cell_type": "code",
      "source": [
        "#categorizing the foodstamp and insurance data\n",
        "df12['Foodstamp'] = np.where(df12['foodstmp']== 'Yes', 1, 0)\n",
        "df12['Insurance_Status'] = np.where(df12['hcovany']== 'With health insurance coverage', 1, 0)\n",
        "\n",
        "#ms_data12 = df12.copy()\n",
        "#df12.drop(['foodstmp','hcovany'],axis=1, inplace=True)\n",
        "df12.drop(['hcovany'],axis=1, inplace=True)\n",
        "df12 = df12.loc[df12['age']>17]\n",
        "df12.head(1)"
      ],
      "metadata": {
        "id": "QGeo1Mwi377s"
      },
      "id": "QGeo1Mwi377s",
      "execution_count": null,
      "outputs": []
    },
    {
      "cell_type": "code",
      "source": [
        "df19 = dataset2019[['statefip','age','foodstmp', 'hhincome', 'marst','race', 'educ','hcovany']]\n",
        "df19.head(1)"
      ],
      "metadata": {
        "id": "yznWWkG4_nH8"
      },
      "id": "yznWWkG4_nH8",
      "execution_count": null,
      "outputs": []
    },
    {
      "cell_type": "code",
      "source": [
        "df19 = df19.loc[df19['age']!='Less than 1 year old']"
      ],
      "metadata": {
        "id": "HBEch6I75TF3"
      },
      "id": "HBEch6I75TF3",
      "execution_count": null,
      "outputs": []
    },
    {
      "cell_type": "code",
      "source": [
        "df19 = df19.loc[df19['age']!='90 (90+ in 1980 and 1990)']"
      ],
      "metadata": {
        "id": "PX-KRu5D5Z9i"
      },
      "id": "PX-KRu5D5Z9i",
      "execution_count": null,
      "outputs": []
    },
    {
      "cell_type": "code",
      "source": [
        "df19['age']= df19['age'].astype(float)"
      ],
      "metadata": {
        "id": "k_zgKFU75fGo"
      },
      "id": "k_zgKFU75fGo",
      "execution_count": null,
      "outputs": []
    },
    {
      "cell_type": "code",
      "source": [
        "#categorizing the foodstamp and insurance data\n",
        "df19['Foodstamp'] = np.where(df19['foodstmp']== 'Yes', 1, 0)\n",
        "df19['Insurance_Status'] = np.where(df19['hcovany']== 'With health insurance coverage', 1, 0)\n",
        "\n",
        "\n",
        "#df19.drop(['foodstmp','hcovany'],axis='columns', inplace=True)\n",
        "df19.drop(['hcovany'],axis='columns', inplace=True)\n",
        "df19 = df19.loc[df19['age']>17]\n",
        "df19.head(1)"
      ],
      "metadata": {
        "id": "W9rN7ldA55Xt"
      },
      "id": "W9rN7ldA55Xt",
      "execution_count": null,
      "outputs": []
    },
    {
      "cell_type": "code",
      "source": [
        "df19['hhincome']=  df19['hhincome']*0.88"
      ],
      "metadata": {
        "id": "DgUmRPeaE12E"
      },
      "id": "DgUmRPeaE12E",
      "execution_count": null,
      "outputs": []
    },
    {
      "cell_type": "code",
      "source": [
        "df19.head(1)"
      ],
      "metadata": {
        "id": "QuOyCg6TFEkq"
      },
      "id": "QuOyCg6TFEkq",
      "execution_count": null,
      "outputs": []
    },
    {
      "cell_type": "code",
      "source": [
        "#dummy variable to deal with the categorical data of 2012\n",
        "x12 = df12.drop(['Insurance_Status'], axis = 1)\n",
        "\n",
        "X12 = pd.get_dummies(x12) #feature names\n",
        "y12 = df12.iloc[:,-1:] #target variable (class label)"
      ],
      "metadata": {
        "id": "9BscWkR459Nh"
      },
      "id": "9BscWkR459Nh",
      "execution_count": null,
      "outputs": []
    },
    {
      "cell_type": "code",
      "source": [
        "#dummy variable to deal with the categorical data of 2019\n",
        "x19 = df19.drop('Insurance_Status', axis = 1)\n",
        "X19 = pd.get_dummies(x19) #feature names\n",
        "y19 = df19.iloc[:,-1:] #target variable (class label)\n"
      ],
      "metadata": {
        "id": "vylnOdmS59LY"
      },
      "id": "vylnOdmS59LY",
      "execution_count": null,
      "outputs": []
    },
    {
      "cell_type": "code",
      "source": [
        ""
      ],
      "metadata": {
        "id": "S6wMw7tQLCwZ"
      },
      "id": "S6wMw7tQLCwZ",
      "execution_count": null,
      "outputs": []
    },
    {
      "cell_type": "markdown",
      "source": [
        "Splitting the data for training and testing"
      ],
      "metadata": {
        "id": "CuxNlRA_6HoR"
      },
      "id": "CuxNlRA_6HoR"
    },
    {
      "cell_type": "code",
      "source": [
        ""
      ],
      "metadata": {
        "id": "g84YIqSC59DE"
      },
      "id": "g84YIqSC59DE",
      "execution_count": null,
      "outputs": []
    },
    {
      "cell_type": "code",
      "source": [
        ""
      ],
      "metadata": {
        "id": "lnT85MJp58_V"
      },
      "id": "lnT85MJp58_V",
      "execution_count": null,
      "outputs": []
    },
    {
      "cell_type": "code",
      "metadata": {
        "id": "951d123d"
      },
      "source": [
        "\n"
      ],
      "id": "951d123d",
      "execution_count": null,
      "outputs": []
    },
    {
      "cell_type": "code",
      "metadata": {
        "id": "2IC1swiCFkFF"
      },
      "source": [
        "from sklearn.model_selection import train_test_split"
      ],
      "id": "2IC1swiCFkFF",
      "execution_count": null,
      "outputs": []
    },
    {
      "cell_type": "code",
      "source": [
        "#x_pre = x_pre[ [ col for col in x_pre.columns if col != 'Insurance_Status' ]+['Insurance_Status'] ]"
      ],
      "metadata": {
        "id": "QMlauhX0LjHm"
      },
      "id": "QMlauhX0LjHm",
      "execution_count": null,
      "outputs": []
    },
    {
      "cell_type": "code",
      "source": [
        "#x_pre.drop('Insurance_Status', axis = 1)"
      ],
      "metadata": {
        "id": "30-mHPs1w4Ar"
      },
      "id": "30-mHPs1w4Ar",
      "execution_count": null,
      "outputs": []
    },
    {
      "cell_type": "code",
      "source": [
        "#x_pre19.drop(['age_91','age_95'],axis='columns', inplace=True)"
      ],
      "metadata": {
        "id": "9iXVN_Dl0zR_"
      },
      "id": "9iXVN_Dl0zR_",
      "execution_count": null,
      "outputs": []
    },
    {
      "cell_type": "markdown",
      "source": [
        ""
      ],
      "metadata": {
        "id": "w3w9y_Bz0lKV"
      },
      "id": "w3w9y_Bz0lKV"
    },
    {
      "cell_type": "code",
      "metadata": {
        "id": "lApn32wJFm3S"
      },
      "source": [
        "#training_set, validation_set = train_test_split(x_pre, test_size = 0.2, random_state = 21)"
      ],
      "id": "lApn32wJFm3S",
      "execution_count": null,
      "outputs": []
    },
    {
      "cell_type": "code",
      "source": [
        "#training_set.head(1)"
      ],
      "metadata": {
        "id": "JA5YY7qCJcmv"
      },
      "id": "JA5YY7qCJcmv",
      "execution_count": null,
      "outputs": []
    },
    {
      "cell_type": "code",
      "source": [
        "#training_set.head(1)"
      ],
      "metadata": {
        "id": "lWJXCqhj7nne"
      },
      "id": "lWJXCqhj7nne",
      "execution_count": null,
      "outputs": []
    },
    {
      "cell_type": "code",
      "source": [
        "#training_set.drop('Insurance_Status', axis = 1)"
      ],
      "metadata": {
        "id": "V-vL3d8rLD9H"
      },
      "id": "V-vL3d8rLD9H",
      "execution_count": null,
      "outputs": []
    },
    {
      "cell_type": "code",
      "source": [
        "#training_set.head(1)"
      ],
      "metadata": {
        "id": "JCPC8oC0LVZb"
      },
      "id": "JCPC8oC0LVZb",
      "execution_count": null,
      "outputs": []
    },
    {
      "cell_type": "code",
      "metadata": {
        "id": "NXzklAV2FvWG"
      },
      "source": [
        "#classifying the predictors and target variables as X and y\n",
        "#X_train = training_set.iloc[:,0:-1].values\n",
        "#y_train = training_set.iloc[:,-1].values\n",
        "#X_val = validation_set.iloc[:,0:-1].values\n",
        "#y_val = validation_set.iloc[:,-1].values"
      ],
      "id": "NXzklAV2FvWG",
      "execution_count": null,
      "outputs": []
    },
    {
      "cell_type": "code",
      "metadata": {
        "id": "zBWQWoi21Yty"
      },
      "source": [
        "from sklearn.model_selection import train_test_split\n",
        "from sklearn.metrics import precision_recall_fscore_support"
      ],
      "id": "zBWQWoi21Yty",
      "execution_count": null,
      "outputs": []
    },
    {
      "cell_type": "code",
      "metadata": {
        "id": "cb8b1a8e"
      },
      "source": [
        "from sklearn.neural_network import MLPClassifier\n",
        "from sklearn.datasets import make_classification\n"
      ],
      "id": "cb8b1a8e",
      "execution_count": null,
      "outputs": []
    },
    {
      "cell_type": "code",
      "metadata": {
        "id": "f0jQWHCdI5fX"
      },
      "source": [
        "#Initializing the MLPClassifier\n",
        "classifier = MLPClassifier(hidden_layer_sizes=(150,100,50), max_iter=300,activation = 'relu',solver='adam',random_state=1)"
      ],
      "id": "f0jQWHCdI5fX",
      "execution_count": null,
      "outputs": []
    },
    {
      "cell_type": "code",
      "metadata": {
        "id": "zY5aCtA6JJKi"
      },
      "source": [
        "#Fitting the training data to the network\n",
        "classifier.fit(X12, y12)"
      ],
      "id": "zY5aCtA6JJKi",
      "execution_count": null,
      "outputs": []
    },
    {
      "cell_type": "code",
      "metadata": {
        "id": "Wu8KoanBJUKf"
      },
      "source": [
        "#Predicting y for X_val\n",
        "y_pred = classifier.predict(X19)"
      ],
      "id": "Wu8KoanBJUKf",
      "execution_count": null,
      "outputs": []
    },
    {
      "cell_type": "code",
      "source": [
        "importance=classifier.feature_importances_\n",
        "# summarize feature importance\n",
        "for i,v in enumerate(importance):\n",
        "\tprint('Feature: %0d, Score: %.5f' % (i,v))\n",
        "# plot feature importance\n",
        "pyplot.bar([x for x in range(len(importance))], importance)\n",
        "pyplot.show()"
      ],
      "metadata": {
        "id": "UtstTNZ-7Z2P"
      },
      "id": "UtstTNZ-7Z2P",
      "execution_count": null,
      "outputs": []
    },
    {
      "cell_type": "code",
      "metadata": {
        "id": "bcdFyfTrKM3R"
      },
      "source": [
        ""
      ],
      "id": "bcdFyfTrKM3R",
      "execution_count": null,
      "outputs": []
    },
    {
      "cell_type": "code",
      "metadata": {
        "id": "28dx5EYfKXRZ"
      },
      "source": [
        "# accuracy:(True Pos + True Neg)/all obs -> (tp + tn) / (p + n)->For all observations, what percentage of predictions (either have insurance or not have insurance) is accurate?\n",
        "accuracy = accuracy_score(y19, y_pred)\n",
        "print('Accuracy: %f' % accuracy)\n",
        "# precision: True Positives/Total Predicted Positives -> tp / (tp + fp)-> Among the ones we predict to have insurance, what percentage actually has insurance?\n",
        "precision = precision_score(y19, y_pred)\n",
        "print('Precision: %f' % precision)\n",
        "# recall: True Predicted Positives/ Total Positives-> tp / (tp + fn) -> Among the actual insurance owners, what percentage did we predict to have insurance?\n",
        "recall = recall_score(y19, y_pred)\n",
        "print('Recall: %f' % recall)\n",
        "# f1: an average score of precision and recall -> 2 tp / (2 tp + fp + fn)\n",
        "f1 = f1_score(y19, y_pred)\n",
        "print('F1 score: %f' % f1)"
      ],
      "id": "28dx5EYfKXRZ",
      "execution_count": null,
      "outputs": []
    },
    {
      "cell_type": "code",
      "source": [
        "from sklearn.metrics import mean_squared_error\n",
        "mean_squared_error(y19, y_pred)"
      ],
      "metadata": {
        "id": "0ZgfDZsu7w3J"
      },
      "id": "0ZgfDZsu7w3J",
      "execution_count": null,
      "outputs": []
    },
    {
      "cell_type": "code",
      "source": [
        ""
      ],
      "metadata": {
        "id": "ZyqIeaq18CcA"
      },
      "id": "ZyqIeaq18CcA",
      "execution_count": null,
      "outputs": []
    },
    {
      "cell_type": "code",
      "source": [
        "from sklearn.metrics import confusion_matrix\n",
        "confusion_matrix(y19, y_pred)\n"
      ],
      "metadata": {
        "id": "u5_itepUPoF9"
      },
      "id": "u5_itepUPoF9",
      "execution_count": null,
      "outputs": []
    },
    {
      "cell_type": "code",
      "source": [
        "import matplotlib.pyplot as plt\n",
        "from sklearn.datasets import make_classification\n",
        "from sklearn.metrics import ConfusionMatrixDisplay\n",
        "import seaborn as sns\n",
        "\n",
        "cm=confusion_matrix(y19, y_pred)\n",
        "sns.heatmap(cm, annot=True, fmt='d', cmap='YlGnBu',xticklabels='auto', yticklabels='auto')\n",
        "print(cm)\n",
        "#plt.matshow(cm)"
      ],
      "metadata": {
        "id": "EBhglHd6Qgeq"
      },
      "id": "EBhglHd6Qgeq",
      "execution_count": null,
      "outputs": []
    },
    {
      "cell_type": "code",
      "source": [
        "from sklearn.datasets import load_digits\n",
        "from sklearn.linear_model import Perceptron\n"
      ],
      "metadata": {
        "id": "SUFSk6KMG8tJ"
      },
      "id": "SUFSk6KMG8tJ",
      "execution_count": null,
      "outputs": []
    },
    {
      "cell_type": "code",
      "source": [
        "model = Perceptron()"
      ],
      "metadata": {
        "id": "BZO1HGh-G8i4"
      },
      "id": "BZO1HGh-G8i4",
      "execution_count": null,
      "outputs": []
    },
    {
      "cell_type": "code",
      "source": [
        "model.fit(X12, y12)"
      ],
      "metadata": {
        "id": "8x3P2NruG8ZR"
      },
      "id": "8x3P2NruG8ZR",
      "execution_count": null,
      "outputs": []
    },
    {
      "cell_type": "code",
      "source": [
        "y_predP = model.predict(X19)"
      ],
      "metadata": {
        "id": "hTaQMlIYG8K0"
      },
      "id": "hTaQMlIYG8K0",
      "execution_count": null,
      "outputs": []
    },
    {
      "cell_type": "code",
      "source": [
        "92 # accuracy:(True Pos + True Neg)/all obs -> (tp + tn) / (p + n)->For all observations, what percentage of predictions (either have insurance or not have insurance) is accurate?\n",
        "accuracy = accuracy_score(y19, y_predP)\n",
        "print('Accuracy: %f' % accuracy)\n",
        "# precision: True Positives/Total Predicted Positives -> tp / (tp + fp)-> Among the ones we predict to have insurance, what percentage actually has insurance?\n",
        "precision = precision_score(y19, y_predP)\n",
        "print('Precision: %f' % precision)\n",
        "# recall: True Predicted Positives/ Total Positives-> tp / (tp + fn) -> Among the actual insurance owners, what percentage did we predict to have insurance?\n",
        "recall = recall_score(y19, y_predP)\n",
        "print('Recall: %f' % recall)\n",
        "# f1: an average score of precision and recall -> 2 tp / (2 tp + fp + fn)\n",
        "f1 = f1_score(y19, y_predP)\n",
        "print('F1 score: %f' % f1)"
      ],
      "metadata": {
        "id": "GD_nAxQhKEEc"
      },
      "id": "GD_nAxQhKEEc",
      "execution_count": null,
      "outputs": []
    },
    {
      "cell_type": "code",
      "source": [
        "#model1 = DecisionTreeClassifier()"
      ],
      "metadata": {
        "id": "Mdpf2pXQjeHq"
      },
      "id": "Mdpf2pXQjeHq",
      "execution_count": null,
      "outputs": []
    },
    {
      "cell_type": "code",
      "source": [
        "#model1.fit(X12, y12)"
      ],
      "metadata": {
        "id": "qo4Cj25Xjk0u"
      },
      "id": "qo4Cj25Xjk0u",
      "execution_count": null,
      "outputs": []
    },
    {
      "cell_type": "code",
      "source": [
        "#y_predDT = model1.predict(X19)"
      ],
      "metadata": {
        "id": "ZvDCOsXvjrx4"
      },
      "id": "ZvDCOsXvjrx4",
      "execution_count": null,
      "outputs": []
    },
    {
      "cell_type": "code",
      "source": [
        "92 # accuracy:(True Pos + True Neg)/all obs -> (tp + tn) / (p + n)->For all observations, what percentage of predictions (either have insurance or not have insurance) is accurate?\n",
        "accuracy = accuracy_score(y19, y_predDT)\n",
        "print('Accuracy: %f' % accuracy)\n",
        "# precision: True Positives/Total Predicted Positives -> tp / (tp + fp)-> Among the ones we predict to have insurance, what percentage actually has insurance?\n",
        "precision = precision_score(y19, y_predDT)\n",
        "print('Precision: %f' % precision)\n",
        "# recall: True Predicted Positives/ Total Positives-> tp / (tp + fn) -> Among the actual insurance owners, what percentage did we predict to have insurance?\n",
        "recall = recall_score(y19, y_predDT)\n",
        "print('Recall: %f' % recall)\n",
        "# f1: an average score of precision and recall -> 2 tp / (2 tp + fp + fn)\n",
        "f1 = f1_score(y19, y_predDT)\n",
        "print('F1 score: %f' % f1)"
      ],
      "metadata": {
        "id": "wVFWJKIkjxjQ"
      },
      "id": "wVFWJKIkjxjQ",
      "execution_count": null,
      "outputs": []
    },
    {
      "cell_type": "code",
      "source": [
        "#from matplotlib import pyplot"
      ],
      "metadata": {
        "id": "v7v5_SH2kFlm"
      },
      "id": "v7v5_SH2kFlm",
      "execution_count": null,
      "outputs": []
    },
    {
      "cell_type": "code",
      "source": [
        "importance = model1.feature_importances_\n",
        "# summarize feature importance\n",
        "for i,v in enumerate(importance):\n",
        "\tprint('Feature: %0d, Score: %.5f' % (i,v))\n",
        "# plot feature importance\n",
        "pyplot.bar([x for x in range(len(importance))], importance)\n",
        "pyplot.show()"
      ],
      "metadata": {
        "id": "r1kZejMoj7E4"
      },
      "id": "r1kZejMoj7E4",
      "execution_count": null,
      "outputs": []
    },
    {
      "cell_type": "code",
      "source": [
        "X12.head(1)"
      ],
      "metadata": {
        "id": "EQNAWh1ckL58"
      },
      "id": "EQNAWh1ckL58",
      "execution_count": null,
      "outputs": []
    },
    {
      "cell_type": "code",
      "source": [
        "import matplotlib.pyplot as plt\n",
        "from sklearn.datasets import make_classification\n",
        "from sklearn.metrics import ConfusionMatrixDisplay\n",
        "import seaborn as sns\n",
        "\n",
        "cm=confusion_matrix(y19, y_predDT)\n",
        "sns.heatmap(cm, annot=True, fmt='d', cmap='YlGnBu',xticklabels='auto', yticklabels='auto')\n",
        "print(cm)\n",
        "#plt.matshow(cm)"
      ],
      "metadata": {
        "id": "_BTnp09qlDMT"
      },
      "id": "_BTnp09qlDMT",
      "execution_count": null,
      "outputs": []
    },
    {
      "cell_type": "code",
      "source": [
        "from sklearn.metrics import mean_squared_error\n",
        "mean_squared_error(y19, y_predDT)"
      ],
      "metadata": {
        "id": "MvwUeh4X8sEz"
      },
      "id": "MvwUeh4X8sEz",
      "execution_count": null,
      "outputs": []
    },
    {
      "cell_type": "code",
      "source": [
        "#x_pre19feed = x_pre19.iloc[:,0:-1].values"
      ],
      "metadata": {
        "id": "lwHQaXeAMXMf"
      },
      "id": "lwHQaXeAMXMf",
      "execution_count": null,
      "outputs": []
    },
    {
      "cell_type": "code",
      "source": [
        "#y19 = x_pre19.iloc[:,-1].values"
      ],
      "metadata": {
        "id": "NolBX4LD7R2m"
      },
      "id": "NolBX4LD7R2m",
      "execution_count": null,
      "outputs": []
    },
    {
      "cell_type": "code",
      "metadata": {
        "id": "bT1SaovEyjmg"
      },
      "source": [
        "#Predicting y for X_val\n",
        "#y_pred19 = classifier.predict(x_pre19feed)"
      ],
      "id": "bT1SaovEyjmg",
      "execution_count": null,
      "outputs": []
    }
  ]
}